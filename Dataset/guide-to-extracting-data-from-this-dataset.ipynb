{
 "cells": [
  {
   "cell_type": "markdown",
   "id": "0529ae78",
   "metadata": {
    "papermill": {
     "duration": 0.003526,
     "end_time": "2025-08-17T19:50:31.796369",
     "exception": false,
     "start_time": "2025-08-17T19:50:31.792843",
     "status": "completed"
    },
    "tags": []
   },
   "source": [
    "# Guide To Extracting Data from the Movies Dataset\n",
    "\n",
    "This is a guide to *how to extract data from the imdb movies dataset*. This is one way of doing things. In this notebook I extract the data from the different *csv* files. They were seperate for a practical reasons in the data scraping phase. I also add some normalization and data cleaning. I am doing the bare minimum in terms of cleaning and normalization so it wouldn't be very complex.\n",
    "\n",
    "There is another notebook that is meant for a whole data cleaning process. You can check it out.\n",
    "\n",
    "## Introducing the Dataset and its structure\n",
    "\n",
    "This dataset provides annual data for the most popular 500–600 movies per year from 1920 to 2025, extracted from IMDb. It includes over 60,000 movies, spanning more than 100 years of cinematic history.\n",
    "\n",
    "Each year’s data is divided into three CSV files for flexibility and ease of use:\n",
    "- ``imdb_movies_[year].csv``: Basic movie details.\n",
    "- ``advanced_movies_details_[year]``.csv: Comprehensive metadata and financial details.\n",
    "- ``merged_movies_data_[year].csv``: A unified dataset combining both files.\n",
    "\n",
    "## What we are doing exactly:\n",
    "\n",
    "1. Merge all `merged_movies_data_{year}` files across all years into one csv.\n",
    "2. Change names to uniform naming style.\n",
    "3. Extract the `id`.\n",
    "4. Remove Duplicates\n",
    "5. Change Empty values to None."
   ]
  },
  {
   "cell_type": "markdown",
   "id": "5dc30204",
   "metadata": {
    "papermill": {
     "duration": 0.002473,
     "end_time": "2025-08-17T19:50:31.801895",
     "exception": false,
     "start_time": "2025-08-17T19:50:31.799422",
     "status": "completed"
    },
    "tags": []
   },
   "source": [
    "<h3 style=\"font-family: 'Segoe UI', Tahoma, Geneva, Verdana, sans-serif; color: #2c3e50; margin-top: 40px;\">Contact Me</h3>\n",
    "\n",
    "<p style=\"font-size: 16px; color: #555;\">\n",
    "  If you notice anything lacking, spot an issue with this notebook, or have suggestions for improvements, feel free to reach out through any of the platforms below:\n",
    "</p>\n",
    "\n",
    "<table style=\"font-family: 'Segoe UI', Tahoma, Geneva, Verdana, sans-serif; border-collapse: collapse; width: 100%; max-width: 600px;\">\n",
    "  <tbody>\n",
    "    <tr>\n",
    "      <td style=\"padding: 10px;\">\n",
    "        <a href=\"https://www.linkedin.com/in/addalaraed/\" target=\"_blank\">\n",
    "          <img src=\"https://img.shields.io/badge/LinkedIn-Raed_Addala-blue?style=for-the-badge&logo=linkedin\" alt=\"LinkedIn Badge\"/>\n",
    "        </a>\n",
    "      </td>\n",
    "    </tr>\n",
    "    <tr>\n",
    "      <td style=\"padding: 10px;\">\n",
    "        <a href=\"https://x.com/AddalaRaed\" target=\"_blank\">\n",
    "          <img src=\"https://img.shields.io/badge/Twitter-@AddalaRaed-1DA1F2?style=for-the-badge&logo=twitter\" alt=\"Twitter Badge\"/>\n",
    "        </a>\n",
    "      </td>\n",
    "    </tr>\n",
    "    <tr>\n",
    "      <td style=\"padding: 10px;\">\n",
    "        <a href=\"mailto:addala.raed@gmail.com\">\n",
    "          <img src=\"https://img.shields.io/badge/Gmail-addala.raed@gmail.com-D14836?style=for-the-badge&logo=gmail\" alt=\"Gmail Badge\"/>\n",
    "        </a>\n",
    "      </td>\n",
    "    </tr>\n",
    "    <tr>\n",
    "      <td style=\"padding: 10px;\">\n",
    "        <a href=\"https://github.com/RaedAddala\" target=\"_blank\">\n",
    "          <img src=\"https://img.shields.io/badge/GitHub-RaedAddala-181717?style=for-the-badge&logo=github\" alt=\"GitHub Badge\"/>\n",
    "        </a>\n",
    "      </td>\n",
    "    </tr>\n",
    "  </tbody>\n",
    "</table>\n"
   ]
  },
  {
   "cell_type": "markdown",
   "id": "728d8495",
   "metadata": {
    "papermill": {
     "duration": 0.002516,
     "end_time": "2025-08-17T19:50:31.807073",
     "exception": false,
     "start_time": "2025-08-17T19:50:31.804557",
     "status": "completed"
    },
    "tags": []
   },
   "source": [
    "## Data Organization and Cleaning"
   ]
  },
  {
   "cell_type": "code",
   "execution_count": 1,
   "id": "de6e2184",
   "metadata": {
    "_cell_guid": "b1076dfc-b9ad-4769-8c92-a6c4dae69d19",
    "_uuid": "8f2839f25d086af736a60e9eeb907d3b93b6e0e5",
    "execution": {
     "iopub.execute_input": "2025-08-17T19:50:31.813677Z",
     "iopub.status.busy": "2025-08-17T19:50:31.813359Z",
     "iopub.status.idle": "2025-08-17T19:50:32.333763Z",
     "shell.execute_reply": "2025-08-17T19:50:32.333098Z"
    },
    "papermill": {
     "duration": 0.525384,
     "end_time": "2025-08-17T19:50:32.335265",
     "exception": false,
     "start_time": "2025-08-17T19:50:31.809881",
     "status": "completed"
    },
    "tags": []
   },
   "outputs": [],
   "source": [
    "import os\n",
    "import re\n",
    "import numpy as np\n",
    "import polars as pl\n",
    "from dateutil import parser"
   ]
  },
  {
   "cell_type": "code",
   "execution_count": 2,
   "id": "9ecd7db4",
   "metadata": {
    "execution": {
     "iopub.execute_input": "2025-08-17T19:50:32.342142Z",
     "iopub.status.busy": "2025-08-17T19:50:32.341696Z",
     "iopub.status.idle": "2025-08-17T19:50:32.345706Z",
     "shell.execute_reply": "2025-08-17T19:50:32.344881Z"
    },
    "papermill": {
     "duration": 0.008782,
     "end_time": "2025-08-17T19:50:32.347072",
     "exception": false,
     "start_time": "2025-08-17T19:50:32.338290",
     "status": "completed"
    },
    "tags": []
   },
   "outputs": [],
   "source": [
    "root_dir = \"/kaggle/input/imdb-movies-from-1960-to-2023/Data\""
   ]
  },
  {
   "cell_type": "code",
   "execution_count": 3,
   "id": "6d9a602c",
   "metadata": {
    "execution": {
     "iopub.execute_input": "2025-08-17T19:50:32.353651Z",
     "iopub.status.busy": "2025-08-17T19:50:32.353418Z",
     "iopub.status.idle": "2025-08-17T19:50:32.364082Z",
     "shell.execute_reply": "2025-08-17T19:50:32.363281Z"
    },
    "papermill": {
     "duration": 0.015519,
     "end_time": "2025-08-17T19:50:32.365406",
     "exception": false,
     "start_time": "2025-08-17T19:50:32.349887",
     "status": "completed"
    },
    "tags": []
   },
   "outputs": [],
   "source": [
    "merged_data = pl.DataFrame()"
   ]
  },
  {
   "cell_type": "code",
   "execution_count": 4,
   "id": "35942af6",
   "metadata": {
    "execution": {
     "iopub.execute_input": "2025-08-17T19:50:32.371937Z",
     "iopub.status.busy": "2025-08-17T19:50:32.371688Z",
     "iopub.status.idle": "2025-08-17T19:50:32.376285Z",
     "shell.execute_reply": "2025-08-17T19:50:32.375708Z"
    },
    "papermill": {
     "duration": 0.009247,
     "end_time": "2025-08-17T19:50:32.377490",
     "exception": false,
     "start_time": "2025-08-17T19:50:32.368243",
     "status": "completed"
    },
    "tags": []
   },
   "outputs": [],
   "source": [
    "column_mapping = {\n",
    "    'Title': 'title',\n",
    "    'Year': 'year',\n",
    "    'Duration': 'duration',\n",
    "    'MPA': 'MPA',\n",
    "    'Rating': 'rating',\n",
    "    'Votes': 'votes',\n",
    "    'méta_score': 'meta_score',\n",
    "    'description': 'description',\n",
    "    'Movie Link': 'movie_link',\n",
    "    'link': 'movie_link',\n",
    "    'writers': 'writers',\n",
    "    'directors': 'directors',\n",
    "    'stars': 'stars',\n",
    "    'budget': 'budget',\n",
    "    'opening_weekend_Gross': 'opening_weekend_gross',\n",
    "    'grossWorldWWide': 'gross_worldwide',\n",
    "    'gross_US_Canada': 'gross_us_canada',\n",
    "    'Release_date': 'release_date',\n",
    "    'countries_origin': 'countries_origin',\n",
    "    'filming_locations': 'filming_locations',\n",
    "    'production_company': 'production_companies',\n",
    "    'awards_content': 'awards_content',\n",
    "    'genres': 'genres',\n",
    "    'Languages': 'languages'\n",
    "}"
   ]
  },
  {
   "cell_type": "code",
   "execution_count": 5,
   "id": "ac1d9881",
   "metadata": {
    "execution": {
     "iopub.execute_input": "2025-08-17T19:50:32.383538Z",
     "iopub.status.busy": "2025-08-17T19:50:32.383308Z",
     "iopub.status.idle": "2025-08-17T19:50:32.387248Z",
     "shell.execute_reply": "2025-08-17T19:50:32.386688Z"
    },
    "papermill": {
     "duration": 0.008222,
     "end_time": "2025-08-17T19:50:32.388378",
     "exception": false,
     "start_time": "2025-08-17T19:50:32.380156",
     "status": "completed"
    },
    "tags": []
   },
   "outputs": [],
   "source": [
    "def parse_release_date(x: str):\n",
    "    try:\n",
    "        return parser.parse(str(x), fuzzy=True).date()\n",
    "    except Exception:\n",
    "        return None"
   ]
  },
  {
   "cell_type": "code",
   "execution_count": 6,
   "id": "13599eef",
   "metadata": {
    "execution": {
     "iopub.execute_input": "2025-08-17T19:50:32.394835Z",
     "iopub.status.busy": "2025-08-17T19:50:32.394421Z",
     "iopub.status.idle": "2025-08-17T19:50:44.349019Z",
     "shell.execute_reply": "2025-08-17T19:50:44.348188Z"
    },
    "papermill": {
     "duration": 11.959366,
     "end_time": "2025-08-17T19:50:44.350527",
     "exception": false,
     "start_time": "2025-08-17T19:50:32.391161",
     "status": "completed"
    },
    "tags": []
   },
   "outputs": [],
   "source": [
    "frames: list[pl.DataFrame] = []\n",
    "\n",
    "for folder in os.listdir(root_dir):\n",
    "    folder_path = os.path.join(root_dir, folder)\n",
    "    if not os.path.isdir(folder_path):\n",
    "        continue\n",
    "\n",
    "    for file in os.listdir(folder_path):\n",
    "        if not (file.startswith(\"merged_movies_data_\") and file.endswith(\".csv\")):\n",
    "            continue\n",
    "\n",
    "        file_path = os.path.join(folder_path, file)\n",
    "        df = pl.read_csv(file_path)\n",
    "\n",
    "        # Rename\n",
    "        df = df.rename({k: v for k, v in column_mapping.items() if k in df.columns})\n",
    "\n",
    "        # Cast everything to Utf8 pre-concat to avoid schema mismatches\n",
    "        df = df.select([pl.col(c).cast(pl.Utf8).alias(c) for c in df.columns])\n",
    "\n",
    "        # Clean title\n",
    "        if \"title\" in df.columns:\n",
    "            df = df.with_columns(\n",
    "                pl.col(\"title\")\n",
    "                  .str.replace(r\"^\\d+\\.\\s*\", \"\")\n",
    "                  .str.strip_chars()\n",
    "                  .alias(\"title\")\n",
    "            )\n",
    "\n",
    "        # Parse release_date to Date\n",
    "        if \"release_date\" in df.columns:\n",
    "            df = df.with_columns(\n",
    "                pl.col(\"release_date\")\n",
    "                  .map_elements(parse_release_date, return_dtype=pl.Date)\n",
    "                  .alias(\"release_date\")\n",
    "            )\n",
    "\n",
    "        # year -> release_date fallback (YYYY-01-01 if release_date missing)\n",
    "        if \"year\" in df.columns:\n",
    "            df = df.with_columns(\n",
    "                pl.col(\"year\").cast(pl.Int32, strict=False)\n",
    "            ).with_columns(\n",
    "                pl.when(pl.col(\"release_date\").is_null() & pl.col(\"year\").is_not_null())\n",
    "                  .then((pl.col(\"year\").cast(pl.Utf8) + \"-01-01\").str.strptime(pl.Date, \"%Y-%m-%d\"))\n",
    "                  .otherwise(pl.col(\"release_date\"))\n",
    "                  .alias(\"release_date\")\n",
    "            ).drop(\"year\")\n",
    "\n",
    "        # Clean movie_link and extract IMDb id\n",
    "        if \"movie_link\" in df.columns:\n",
    "            df = df.with_columns(\n",
    "                pl.col(\"movie_link\").str.replace(r\"\\?.*$\", \"\").alias(\"movie_link\"),\n",
    "                # extract /title/ttXXXXXXXX  →  ttXXXXXXXX\n",
    "                pl.coalesce([\n",
    "                    pl.col(\"movie_link\").str.extract(r\"/title/(tt\\d+)\", 1),\n",
    "                    pl.col(\"movie_link\").str.extract(r\"(tt\\d+)\", 1)  # fallback if path slightly different\n",
    "                ]).alias(\"id\")\n",
    "            )\n",
    "\n",
    "        # Replace \"[]\" with nulls in list-like text columns\n",
    "        for field in (\n",
    "            'directors','writers','stars','genres','countries_origin',\n",
    "            'filming_locations','production_companies','languages'\n",
    "        ):\n",
    "            if field in df.columns:\n",
    "                df = df.with_columns(\n",
    "                    pl.when(pl.col(field).is_null() | (pl.col(field).str.strip_chars() == \"[]\"))\n",
    "                      .then(None)\n",
    "                      .otherwise(pl.col(field))\n",
    "                      .alias(field)\n",
    "                )\n",
    "\n",
    "        frames.append(df)"
   ]
  },
  {
   "cell_type": "code",
   "execution_count": 7,
   "id": "80878c71",
   "metadata": {
    "execution": {
     "iopub.execute_input": "2025-08-17T19:50:44.357266Z",
     "iopub.status.busy": "2025-08-17T19:50:44.357005Z",
     "iopub.status.idle": "2025-08-17T19:50:44.421372Z",
     "shell.execute_reply": "2025-08-17T19:50:44.420501Z"
    },
    "papermill": {
     "duration": 0.069296,
     "end_time": "2025-08-17T19:50:44.422866",
     "exception": false,
     "start_time": "2025-08-17T19:50:44.353570",
     "status": "completed"
    },
    "tags": []
   },
   "outputs": [],
   "source": [
    "# Concatenate (missing cols filled with nulls)\n",
    "merged_data = pl.concat(frames, how=\"diagonal\")"
   ]
  },
  {
   "cell_type": "code",
   "execution_count": 8,
   "id": "77d230b4",
   "metadata": {
    "execution": {
     "iopub.execute_input": "2025-08-17T19:50:44.429864Z",
     "iopub.status.busy": "2025-08-17T19:50:44.429348Z",
     "iopub.status.idle": "2025-08-17T19:50:45.228540Z",
     "shell.execute_reply": "2025-08-17T19:50:45.227585Z"
    },
    "papermill": {
     "duration": 0.804232,
     "end_time": "2025-08-17T19:50:45.230119",
     "exception": false,
     "start_time": "2025-08-17T19:50:44.425887",
     "status": "completed"
    },
    "tags": []
   },
   "outputs": [
    {
     "name": "stdout",
     "output_type": "stream",
     "text": [
      "Duplicate IDs found:\n",
      "shape: (2, 2)\n",
      "┌───────────┬───────────────┐\n",
      "│ id        ┆ title         │\n",
      "│ ---       ┆ ---           │\n",
      "│ str       ┆ str           │\n",
      "╞═══════════╪═══════════════╡\n",
      "│ tt0020393 ┆ Shanghai Lady │\n",
      "│ tt0020393 ┆ Shanghai Lady │\n",
      "└───────────┴───────────────┘\n"
     ]
    }
   ],
   "source": [
    "# Drop duplicate IDs\n",
    "if \"id\" in merged_data.columns:\n",
    "    dup = (merged_data.filter(pl.col(\"id\").is_not_null())\n",
    "                     .group_by(\"id\")\n",
    "                     .len()\n",
    "                     .filter(pl.col(\"len\") > 1))\n",
    "    if dup.height > 0:\n",
    "        print(\"Duplicate IDs found:\")\n",
    "        print(merged_data.filter(pl.col(\"id\").is_in(dup[\"id\"]))[[\"id\", \"title\"]])\n",
    "    merged_data = merged_data.unique(subset=[\"id\"], keep=\"last\")"
   ]
  },
  {
   "cell_type": "code",
   "execution_count": 9,
   "id": "12e05965",
   "metadata": {
    "execution": {
     "iopub.execute_input": "2025-08-17T19:50:45.236984Z",
     "iopub.status.busy": "2025-08-17T19:50:45.236721Z",
     "iopub.status.idle": "2025-08-17T19:50:45.241240Z",
     "shell.execute_reply": "2025-08-17T19:50:45.240419Z"
    },
    "papermill": {
     "duration": 0.009294,
     "end_time": "2025-08-17T19:50:45.242413",
     "exception": false,
     "start_time": "2025-08-17T19:50:45.233119",
     "status": "completed"
    },
    "tags": []
   },
   "outputs": [],
   "source": [
    "# Reorder columns: put id and title first\n",
    "columns_order = [\"id\", \"title\"] + [col for col in merged_data.columns if col not in [\"id\", \"title\"]]\n",
    "merged_data = merged_data.select(columns_order)"
   ]
  },
  {
   "cell_type": "code",
   "execution_count": 10,
   "id": "781fd98d",
   "metadata": {
    "execution": {
     "iopub.execute_input": "2025-08-17T19:50:45.249131Z",
     "iopub.status.busy": "2025-08-17T19:50:45.248893Z",
     "iopub.status.idle": "2025-08-17T19:50:46.975726Z",
     "shell.execute_reply": "2025-08-17T19:50:46.974848Z"
    },
    "papermill": {
     "duration": 1.731611,
     "end_time": "2025-08-17T19:50:46.977039",
     "exception": false,
     "start_time": "2025-08-17T19:50:45.245428",
     "status": "completed"
    },
    "tags": []
   },
   "outputs": [
    {
     "name": "stdout",
     "output_type": "stream",
     "text": [
      "Merged data shape: (63249, 23)\n"
     ]
    },
    {
     "data": {
      "text/html": [
       "<div>\n",
       "<style scoped>\n",
       "    .dataframe tbody tr th:only-of-type {\n",
       "        vertical-align: middle;\n",
       "    }\n",
       "\n",
       "    .dataframe tbody tr th {\n",
       "        vertical-align: top;\n",
       "    }\n",
       "\n",
       "    .dataframe thead th {\n",
       "        text-align: right;\n",
       "    }\n",
       "</style>\n",
       "<table border=\"1\" class=\"dataframe\">\n",
       "  <thead>\n",
       "    <tr style=\"text-align: right;\">\n",
       "      <th></th>\n",
       "      <th>id</th>\n",
       "      <th>title</th>\n",
       "      <th>duration</th>\n",
       "      <th>MPA</th>\n",
       "      <th>rating</th>\n",
       "      <th>votes</th>\n",
       "      <th>meta_score</th>\n",
       "      <th>description</th>\n",
       "      <th>movie_link</th>\n",
       "      <th>writers</th>\n",
       "      <th>...</th>\n",
       "      <th>opening_weekend_gross</th>\n",
       "      <th>gross_worldwide</th>\n",
       "      <th>gross_us_canada</th>\n",
       "      <th>release_date</th>\n",
       "      <th>countries_origin</th>\n",
       "      <th>filming_locations</th>\n",
       "      <th>production_companies</th>\n",
       "      <th>awards_content</th>\n",
       "      <th>genres</th>\n",
       "      <th>languages</th>\n",
       "    </tr>\n",
       "  </thead>\n",
       "  <tbody>\n",
       "    <tr>\n",
       "      <th>0</th>\n",
       "      <td>tt10208198</td>\n",
       "      <td>The Gangster, the Cop, the Devil</td>\n",
       "      <td>1h 49m</td>\n",
       "      <td>Not Rated</td>\n",
       "      <td>7.0</td>\n",
       "      <td>28K</td>\n",
       "      <td>65.0</td>\n",
       "      <td>A crime boss teams up with a cop to track down...</td>\n",
       "      <td>https://www.imdb.com/title/tt10208198/</td>\n",
       "      <td>['Lee Won-tae']</td>\n",
       "      <td>...</td>\n",
       "      <td>$78,655</td>\n",
       "      <td>$25,775,371</td>\n",
       "      <td>$216,494</td>\n",
       "      <td>2019-05-15</td>\n",
       "      <td>['South Korea']</td>\n",
       "      <td>['Seoul, South Korea']</td>\n",
       "      <td>['Kiwi Media Group', 'Acemaker Movieworks', 'B...</td>\n",
       "      <td>Awards, 1 win &amp; 2 nominations total</td>\n",
       "      <td>['True Crime', 'Action', 'Crime', 'Thriller']</td>\n",
       "      <td>['Korean', 'English']</td>\n",
       "    </tr>\n",
       "    <tr>\n",
       "      <th>1</th>\n",
       "      <td>tt3960412</td>\n",
       "      <td>Popstar: Never Stop Never Stopping</td>\n",
       "      <td>1h 27m</td>\n",
       "      <td>R</td>\n",
       "      <td>6.7</td>\n",
       "      <td>71K</td>\n",
       "      <td>68.0</td>\n",
       "      <td>When it becomes clear that his solo album is a...</td>\n",
       "      <td>https://www.imdb.com/title/tt3960412/</td>\n",
       "      <td>['Andy Samberg', 'Akiva Schaffer', 'Jorma Tacc...</td>\n",
       "      <td>...</td>\n",
       "      <td>$4,698,715</td>\n",
       "      <td>$9,680,029</td>\n",
       "      <td>$9,639,125</td>\n",
       "      <td>2016-06-03</td>\n",
       "      <td>['United States', 'China']</td>\n",
       "      <td>None</td>\n",
       "      <td>['Universal Pictures', 'Perfect World Pictures...</td>\n",
       "      <td>Awards, 1 win &amp; 6 nominations total</td>\n",
       "      <td>['Mockumentary', 'Raunchy Comedy', 'Comedy', '...</td>\n",
       "      <td>['English']</td>\n",
       "    </tr>\n",
       "    <tr>\n",
       "      <th>2</th>\n",
       "      <td>tt1001508</td>\n",
       "      <td>He's Just Not That Into You</td>\n",
       "      <td>2h 9m</td>\n",
       "      <td>PG-13</td>\n",
       "      <td>6.4</td>\n",
       "      <td>188K</td>\n",
       "      <td>47.0</td>\n",
       "      <td>This Baltimore-set movie of interconnecting st...</td>\n",
       "      <td>https://www.imdb.com/title/tt1001508/</td>\n",
       "      <td>['Abby Kohn', 'Marc Silverstein', 'Greg Behren...</td>\n",
       "      <td>...</td>\n",
       "      <td>$27,785,487</td>\n",
       "      <td>$178,866,158</td>\n",
       "      <td>$93,953,653</td>\n",
       "      <td>2009-02-06</td>\n",
       "      <td>['Germany', 'United States']</td>\n",
       "      <td>['Handy Market - 2514 W. Magnolia Boulevard, B...</td>\n",
       "      <td>['New Line Cinema', 'Flower Films (II)', 'Inte...</td>\n",
       "      <td>Awards, 1 win &amp; 4 nominations total</td>\n",
       "      <td>['Feel-Good Romance', 'Romantic Comedy', 'Come...</td>\n",
       "      <td>['English']</td>\n",
       "    </tr>\n",
       "    <tr>\n",
       "      <th>3</th>\n",
       "      <td>tt0038303</td>\n",
       "      <td>Anna and the King of Siam</td>\n",
       "      <td>2h 8m</td>\n",
       "      <td>Approved</td>\n",
       "      <td>7.0</td>\n",
       "      <td>2.8K</td>\n",
       "      <td>None</td>\n",
       "      <td>In 1862, a young Englishwoman becomes royal tu...</td>\n",
       "      <td>https://www.imdb.com/title/tt0038303/</td>\n",
       "      <td>['Talbot Jennings', 'Sally Benson', 'Margaret ...</td>\n",
       "      <td>...</td>\n",
       "      <td>None</td>\n",
       "      <td>None</td>\n",
       "      <td>None</td>\n",
       "      <td>1946-09-06</td>\n",
       "      <td>['United States']</td>\n",
       "      <td>['Los Angeles County Arboretum &amp; Botanic Garde...</td>\n",
       "      <td>['Twentieth Century Fox']</td>\n",
       "      <td>Won 2 Oscars, 6 wins &amp; 6 nominations total</td>\n",
       "      <td>['Period Drama', 'Biography', 'Drama', 'Romance']</td>\n",
       "      <td>['English']</td>\n",
       "    </tr>\n",
       "    <tr>\n",
       "      <th>4</th>\n",
       "      <td>tt1401152</td>\n",
       "      <td>Unknown</td>\n",
       "      <td>1h 53m</td>\n",
       "      <td>PG-13</td>\n",
       "      <td>6.8</td>\n",
       "      <td>273K</td>\n",
       "      <td>56.0</td>\n",
       "      <td>When a man awakens from a coma only to discove...</td>\n",
       "      <td>https://www.imdb.com/title/tt1401152/</td>\n",
       "      <td>['Oliver Butcher', 'Stephen Cornwell', 'Didier...</td>\n",
       "      <td>...</td>\n",
       "      <td>$21,856,389</td>\n",
       "      <td>$135,710,029</td>\n",
       "      <td>$63,686,397</td>\n",
       "      <td>2011-02-18</td>\n",
       "      <td>['United States', 'Germany', 'United Kingdom',...</td>\n",
       "      <td>['Tresor, Berlin, Germany (night club scene)']</td>\n",
       "      <td>['Dark Castle Entertainment', 'Panda Productio...</td>\n",
       "      <td>Awards, 3 nominations total</td>\n",
       "      <td>['Action', 'Mystery', 'Thriller']</td>\n",
       "      <td>['English', 'German', 'Turkish', 'Arabic']</td>\n",
       "    </tr>\n",
       "  </tbody>\n",
       "</table>\n",
       "<p>5 rows × 23 columns</p>\n",
       "</div>"
      ],
      "text/plain": [
       "           id                               title duration        MPA rating  \\\n",
       "0  tt10208198    The Gangster, the Cop, the Devil   1h 49m  Not Rated    7.0   \n",
       "1   tt3960412  Popstar: Never Stop Never Stopping   1h 27m          R    6.7   \n",
       "2   tt1001508         He's Just Not That Into You    2h 9m      PG-13    6.4   \n",
       "3   tt0038303           Anna and the King of Siam    2h 8m   Approved    7.0   \n",
       "4   tt1401152                             Unknown   1h 53m      PG-13    6.8   \n",
       "\n",
       "  votes meta_score                                        description  \\\n",
       "0   28K       65.0  A crime boss teams up with a cop to track down...   \n",
       "1   71K       68.0  When it becomes clear that his solo album is a...   \n",
       "2  188K       47.0  This Baltimore-set movie of interconnecting st...   \n",
       "3  2.8K       None  In 1862, a young Englishwoman becomes royal tu...   \n",
       "4  273K       56.0  When a man awakens from a coma only to discove...   \n",
       "\n",
       "                               movie_link  \\\n",
       "0  https://www.imdb.com/title/tt10208198/   \n",
       "1   https://www.imdb.com/title/tt3960412/   \n",
       "2   https://www.imdb.com/title/tt1001508/   \n",
       "3   https://www.imdb.com/title/tt0038303/   \n",
       "4   https://www.imdb.com/title/tt1401152/   \n",
       "\n",
       "                                             writers  ...  \\\n",
       "0                                    ['Lee Won-tae']  ...   \n",
       "1  ['Andy Samberg', 'Akiva Schaffer', 'Jorma Tacc...  ...   \n",
       "2  ['Abby Kohn', 'Marc Silverstein', 'Greg Behren...  ...   \n",
       "3  ['Talbot Jennings', 'Sally Benson', 'Margaret ...  ...   \n",
       "4  ['Oliver Butcher', 'Stephen Cornwell', 'Didier...  ...   \n",
       "\n",
       "  opening_weekend_gross gross_worldwide gross_us_canada release_date  \\\n",
       "0               $78,655     $25,775,371        $216,494   2019-05-15   \n",
       "1            $4,698,715      $9,680,029      $9,639,125   2016-06-03   \n",
       "2           $27,785,487    $178,866,158     $93,953,653   2009-02-06   \n",
       "3                  None            None            None   1946-09-06   \n",
       "4           $21,856,389    $135,710,029     $63,686,397   2011-02-18   \n",
       "\n",
       "                                    countries_origin  \\\n",
       "0                                    ['South Korea']   \n",
       "1                         ['United States', 'China']   \n",
       "2                       ['Germany', 'United States']   \n",
       "3                                  ['United States']   \n",
       "4  ['United States', 'Germany', 'United Kingdom',...   \n",
       "\n",
       "                                   filming_locations  \\\n",
       "0                             ['Seoul, South Korea']   \n",
       "1                                               None   \n",
       "2  ['Handy Market - 2514 W. Magnolia Boulevard, B...   \n",
       "3  ['Los Angeles County Arboretum & Botanic Garde...   \n",
       "4     ['Tresor, Berlin, Germany (night club scene)']   \n",
       "\n",
       "                                production_companies  \\\n",
       "0  ['Kiwi Media Group', 'Acemaker Movieworks', 'B...   \n",
       "1  ['Universal Pictures', 'Perfect World Pictures...   \n",
       "2  ['New Line Cinema', 'Flower Films (II)', 'Inte...   \n",
       "3                          ['Twentieth Century Fox']   \n",
       "4  ['Dark Castle Entertainment', 'Panda Productio...   \n",
       "\n",
       "                               awards_content  \\\n",
       "0         Awards, 1 win & 2 nominations total   \n",
       "1         Awards, 1 win & 6 nominations total   \n",
       "2         Awards, 1 win & 4 nominations total   \n",
       "3  Won 2 Oscars, 6 wins & 6 nominations total   \n",
       "4                 Awards, 3 nominations total   \n",
       "\n",
       "                                              genres  \\\n",
       "0      ['True Crime', 'Action', 'Crime', 'Thriller']   \n",
       "1  ['Mockumentary', 'Raunchy Comedy', 'Comedy', '...   \n",
       "2  ['Feel-Good Romance', 'Romantic Comedy', 'Come...   \n",
       "3  ['Period Drama', 'Biography', 'Drama', 'Romance']   \n",
       "4                  ['Action', 'Mystery', 'Thriller']   \n",
       "\n",
       "                                    languages  \n",
       "0                       ['Korean', 'English']  \n",
       "1                                 ['English']  \n",
       "2                                 ['English']  \n",
       "3                                 ['English']  \n",
       "4  ['English', 'German', 'Turkish', 'Arabic']  \n",
       "\n",
       "[5 rows x 23 columns]"
      ]
     },
     "metadata": {},
     "output_type": "display_data"
    }
   ],
   "source": [
    "print(f\"Merged data shape: {merged_data.shape}\")\n",
    "display(merged_data.head().to_pandas())"
   ]
  },
  {
   "cell_type": "code",
   "execution_count": 11,
   "id": "4bfa4709",
   "metadata": {
    "execution": {
     "iopub.execute_input": "2025-08-17T19:50:46.985679Z",
     "iopub.status.busy": "2025-08-17T19:50:46.985306Z",
     "iopub.status.idle": "2025-08-17T19:50:47.156467Z",
     "shell.execute_reply": "2025-08-17T19:50:47.155623Z"
    },
    "papermill": {
     "duration": 0.176837,
     "end_time": "2025-08-17T19:50:47.158229",
     "exception": false,
     "start_time": "2025-08-17T19:50:46.981392",
     "status": "completed"
    },
    "tags": []
   },
   "outputs": [],
   "source": [
    "merged_data.write_csv(\"/kaggle/working/final_dataset.csv\")"
   ]
  }
 ],
 "metadata": {
  "kaggle": {
   "accelerator": "none",
   "dataSources": [
    {
     "datasetId": 6427301,
     "sourceId": 11180157,
     "sourceType": "datasetVersion"
    }
   ],
   "isGpuEnabled": false,
   "isInternetEnabled": false,
   "language": "python",
   "sourceType": "notebook"
  },
  "kernelspec": {
   "display_name": "Python 3",
   "language": "python",
   "name": "python3"
  },
  "language_info": {
   "codemirror_mode": {
    "name": "ipython",
    "version": 3
   },
   "file_extension": ".py",
   "mimetype": "text/x-python",
   "name": "python",
   "nbconvert_exporter": "python",
   "pygments_lexer": "ipython3",
   "version": "3.11.13"
  },
  "papermill": {
   "default_parameters": {},
   "duration": 20.353185,
   "end_time": "2025-08-17T19:50:47.783657",
   "environment_variables": {},
   "exception": null,
   "input_path": "__notebook__.ipynb",
   "output_path": "__notebook__.ipynb",
   "parameters": {},
   "start_time": "2025-08-17T19:50:27.430472",
   "version": "2.6.0"
  }
 },
 "nbformat": 4,
 "nbformat_minor": 5
}
