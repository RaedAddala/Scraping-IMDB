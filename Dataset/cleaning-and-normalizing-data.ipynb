{
 "cells": [
  {
   "cell_type": "markdown",
   "id": "a3f11c29",
   "metadata": {
    "papermill": {
     "duration": 0.006975,
     "end_time": "2025-07-29T08:02:46.721968",
     "exception": false,
     "start_time": "2025-07-29T08:02:46.714993",
     "status": "completed"
    },
    "tags": []
   },
   "source": [
    "# Dataset cleaning and normalization\n",
    "\n",
    "After a while of using and analyzing the imported dataset I noticed many issues with it.\n",
    "\n",
    "I am creating this notebook to improve the dataset's quality and to help anyone that wishes to use it.\n",
    "\n",
    "## Data Cleaning Process\n",
    "\n",
    "Our Data cleaning Process will follow these steps:\n",
    "\n",
    "1. First for each column we will do some statistics to understand the data's structure, detect issues, and check any possible improvements.\n",
    "2. After that we will proceed with cleaning and normalizing the data depending on the case.\n",
    " \n",
    "\n",
    "### Contact Me\n",
    "\n",
    "Please if you notice anything that is lacking or spot an issue with this notebook or the dataset, contact me through one of these accounts: \n",
    "\n",
    "<style>\n",
    "  .contact-container {\n",
    "    display: flex;\n",
    "    justify-content: center;\n",
    "    margin: 20px 0;\n",
    "  }\n",
    "\n",
    "  .contact-table {\n",
    "    border-collapse: collapse;\n",
    "    font-family: 'Segoe UI', Tahoma, Geneva, Verdana, sans-serif;\n",
    "    width: 100%;\n",
    "    max-width: 500px;\n",
    "    box-shadow: 0 4px 8px rgba(0, 0, 0, 0.1);\n",
    "  }\n",
    "\n",
    "  .contact-table td {\n",
    "    padding: 15px;\n",
    "    vertical-align: middle;\n",
    "  }\n",
    "\n",
    "  .icon-cell {\n",
    "    background-color: #f5f5f5;\n",
    "    width: 60px;\n",
    "    text-align: center;\n",
    "    border-right: 1px solid #e0e0e0;\n",
    "  }\n",
    "\n",
    "  .icon-cell img {\n",
    "    width: 30px;\n",
    "    height: 30px;\n",
    "  }\n",
    "\n",
    "  .info-cell a {\n",
    "    text-decoration: none;\n",
    "    color: #2c3e50;\n",
    "    font-size: 16px;\n",
    "    display: inline-block;\n",
    "  }\n",
    "\n",
    "  .info-cell a:hover {\n",
    "    color: #2980b9;\n",
    "    text-decoration: underline;\n",
    "  }\n",
    "\n",
    "  @media (max-width: 600px) {\n",
    "    .contact-table, .contact-table td {\n",
    "      display: block;\n",
    "      width: 100%;\n",
    "    }\n",
    "\n",
    "    .icon-cell {\n",
    "      border-right: none;\n",
    "      border-bottom: 1px solid #e0e0e0;\n",
    "    }\n",
    "  }\n",
    "</style>\n",
    "\n",
    "<div class=\"contact-container\">\n",
    "  <table class=\"contact-table\">\n",
    "    <tr>\n",
    "      <td class=\"icon-cell\">\n",
    "        <img src=\"https://img.icons8.com/color/48/000000/linkedin.png\" alt=\"LinkedIn\"/>\n",
    "      </td>\n",
    "      <td class=\"info-cell\">\n",
    "        <a href=\"https://www.linkedin.com/in/addalaraed/\" target=\"_blank\">Raed Addala</a>\n",
    "      </td>\n",
    "    </tr>\n",
    "    <tr>\n",
    "      <td class=\"icon-cell\">\n",
    "        <img src=\"https://img.icons8.com/color/48/000000/twitter.png\" alt=\"Twitter\"/>\n",
    "      </td>\n",
    "      <td class=\"info-cell\">\n",
    "        <a href=\"https://x.com/AddalaRaed\" target=\"_blank\">@AddalaRaed</a>\n",
    "      </td>\n",
    "    </tr>\n",
    "    <tr>\n",
    "      <td class=\"icon-cell\">\n",
    "        <img src=\"https://img.icons8.com/color/48/000000/email.png\" alt=\"Email\"/>\n",
    "      </td>\n",
    "      <td class=\"info-cell\">\n",
    "        <a href=\"mailto:addala.raed@gmail.com\">addala.raed@gmail.com</a>\n",
    "      </td>\n",
    "    </tr>\n",
    "    <tr>\n",
    "      <td class=\"icon-cell\">\n",
    "        <img src=\"https://img.icons8.com/material-outlined/48/000000/github.png\" alt=\"GitHub\"/>\n",
    "      </td>\n",
    "      <td class=\"info-cell\">\n",
    "        <a href=\"https://github.com/RaedAddala\" target=\"_blank\">RaedAddala</a>\n",
    "      </td>\n",
    "    </tr>\n",
    "  </table>\n",
    "</div>\n"
   ]
  },
  {
   "cell_type": "markdown",
   "id": "5aeab51e",
   "metadata": {
    "papermill": {
     "duration": 0.005418,
     "end_time": "2025-07-29T08:02:46.733525",
     "exception": false,
     "start_time": "2025-07-29T08:02:46.728107",
     "status": "completed"
    },
    "tags": []
   },
   "source": [
    "## Dataset Stats"
   ]
  },
  {
   "cell_type": "code",
   "execution_count": 1,
   "id": "e5d75732",
   "metadata": {
    "_cell_guid": "b1076dfc-b9ad-4769-8c92-a6c4dae69d19",
    "_uuid": "8f2839f25d086af736a60e9eeb907d3b93b6e0e5",
    "execution": {
     "iopub.execute_input": "2025-07-29T08:02:46.746532Z",
     "iopub.status.busy": "2025-07-29T08:02:46.746152Z",
     "iopub.status.idle": "2025-07-29T08:02:48.813523Z",
     "shell.execute_reply": "2025-07-29T08:02:48.812531Z"
    },
    "papermill": {
     "duration": 2.076228,
     "end_time": "2025-07-29T08:02:48.815435",
     "exception": false,
     "start_time": "2025-07-29T08:02:46.739207",
     "status": "completed"
    },
    "tags": []
   },
   "outputs": [],
   "source": [
    "import pandas as pd\n",
    "import numpy as np\n",
    "import re"
   ]
  },
  {
   "cell_type": "code",
   "execution_count": 2,
   "id": "9debb1b5",
   "metadata": {
    "execution": {
     "iopub.execute_input": "2025-07-29T08:02:48.828016Z",
     "iopub.status.busy": "2025-07-29T08:02:48.827517Z",
     "iopub.status.idle": "2025-07-29T08:02:50.735758Z",
     "shell.execute_reply": "2025-07-29T08:02:50.734758Z"
    },
    "papermill": {
     "duration": 1.91645,
     "end_time": "2025-07-29T08:02:50.737583",
     "exception": false,
     "start_time": "2025-07-29T08:02:48.821133",
     "status": "completed"
    },
    "tags": []
   },
   "outputs": [],
   "source": [
    "df = pd.read_csv(\"/kaggle/input/top-500-600-movies-of-each-year-from-1960-to-2024/final_dataset.csv\")"
   ]
  },
  {
   "cell_type": "code",
   "execution_count": 3,
   "id": "c2c4256c",
   "metadata": {
    "execution": {
     "iopub.execute_input": "2025-07-29T08:02:50.750223Z",
     "iopub.status.busy": "2025-07-29T08:02:50.749901Z",
     "iopub.status.idle": "2025-07-29T08:02:50.755831Z",
     "shell.execute_reply": "2025-07-29T08:02:50.754783Z"
    },
    "papermill": {
     "duration": 0.013878,
     "end_time": "2025-07-29T08:02:50.757337",
     "exception": false,
     "start_time": "2025-07-29T08:02:50.743459",
     "status": "completed"
    },
    "tags": []
   },
   "outputs": [],
   "source": [
    "def describe(df):\n",
    "    print_size = 50\n",
    "    # Display data types\n",
    "    print(\"=\"*print_size)\n",
    "    print(\"\\nData Types:\")\n",
    "    print(\"-\"*print_size)\n",
    "    print(df.dtypes)\n",
    "    # Get summary statistics for all columns\n",
    "    print(\"=\"*print_size)\n",
    "    print(\"\\nSummary Statistics:\")\n",
    "    print(\"-\"*print_size)\n",
    "    print(df.describe(include='all'))\n",
    "    print(\"=\"*print_size)\n",
    "    # Check for missing values\n",
    "    print(\"\\nMissing Values:\")\n",
    "    print(\"-\"*print_size)\n",
    "    print(df.isnull().sum())\n",
    "    print(\"=\"*print_size)"
   ]
  },
  {
   "cell_type": "code",
   "execution_count": 4,
   "id": "9a11dc24",
   "metadata": {
    "execution": {
     "iopub.execute_input": "2025-07-29T08:02:50.769451Z",
     "iopub.status.busy": "2025-07-29T08:02:50.769119Z",
     "iopub.status.idle": "2025-07-29T08:02:51.361908Z",
     "shell.execute_reply": "2025-07-29T08:02:51.361012Z"
    },
    "papermill": {
     "duration": 0.601664,
     "end_time": "2025-07-29T08:02:51.364488",
     "exception": false,
     "start_time": "2025-07-29T08:02:50.762824",
     "status": "completed"
    },
    "tags": []
   },
   "outputs": [
    {
     "name": "stdout",
     "output_type": "stream",
     "text": [
      "==================================================\n",
      "\n",
      "Data Types:\n",
      "--------------------------------------------------\n",
      "id                        object\n",
      "title                     object\n",
      "year                       int64\n",
      "duration                  object\n",
      "MPA                       object\n",
      "rating                   float64\n",
      "votes                     object\n",
      "meta_score               float64\n",
      "description               object\n",
      "Movie_Link                object\n",
      "writers                   object\n",
      "directors                 object\n",
      "stars                     object\n",
      "budget                    object\n",
      "opening_weekend_gross     object\n",
      "gross_worldwide           object\n",
      "gross_us_canada           object\n",
      "release_date             float64\n",
      "countries_origin          object\n",
      "filming_locations         object\n",
      "production_companies      object\n",
      "awards_content            object\n",
      "genres                    object\n",
      "languages                 object\n",
      "dtype: object\n",
      "==================================================\n",
      "\n",
      "Summary Statistics:\n",
      "--------------------------------------------------\n",
      "               id                 title          year duration    MPA  \\\n",
      "count       63249                 63249  63249.000000    61174  41227   \n",
      "unique      63249                 58120           NaN      304     25   \n",
      "top     tt0073195  The Three Musketeers           NaN   1h 30m      R   \n",
      "freq            1                    10           NaN     2751  11339   \n",
      "mean          NaN                   NaN   1972.686572      NaN    NaN   \n",
      "std           NaN                   NaN     30.544579      NaN    NaN   \n",
      "min           NaN                   NaN   1920.000000      NaN    NaN   \n",
      "25%           NaN                   NaN   1946.000000      NaN    NaN   \n",
      "50%           NaN                   NaN   1973.000000      NaN    NaN   \n",
      "75%           NaN                   NaN   1999.000000      NaN    NaN   \n",
      "max           NaN                   NaN   2025.000000      NaN    NaN   \n",
      "\n",
      "              rating  votes    meta_score  \\\n",
      "count   59181.000000  59181  15533.000000   \n",
      "unique           NaN   1769           NaN   \n",
      "top              NaN   1.1K           NaN   \n",
      "freq             NaN    835           NaN   \n",
      "mean        6.162731    NaN     59.071203   \n",
      "std         1.070630    NaN     17.403032   \n",
      "min         1.000000    NaN      1.000000   \n",
      "25%         5.500000    NaN     47.000000   \n",
      "50%         6.300000    NaN     61.000000   \n",
      "75%         6.900000    NaN     72.000000   \n",
      "max        10.000000    NaN    100.000000   \n",
      "\n",
      "                                              description  \\\n",
      "count                                               60889   \n",
      "unique                                              60836   \n",
      "top     Dr. Henry Jekyll experiments with scientific m...   \n",
      "freq                                                    4   \n",
      "mean                                                  NaN   \n",
      "std                                                   NaN   \n",
      "min                                                   NaN   \n",
      "25%                                                   NaN   \n",
      "50%                                                   NaN   \n",
      "75%                                                   NaN   \n",
      "max                                                   NaN   \n",
      "\n",
      "                                  Movie_Link  ... opening_weekend_gross  \\\n",
      "count                                  63249  ...                 16837   \n",
      "unique                                 63249  ...                 15756   \n",
      "top     https://www.imdb.com/title/tt0073195  ...               $11,206   \n",
      "freq                                       1  ...                    19   \n",
      "mean                                     NaN  ...                   NaN   \n",
      "std                                      NaN  ...                   NaN   \n",
      "min                                      NaN  ...                   NaN   \n",
      "25%                                      NaN  ...                   NaN   \n",
      "50%                                      NaN  ...                   NaN   \n",
      "75%                                      NaN  ...                   NaN   \n",
      "max                                      NaN  ...                   NaN   \n",
      "\n",
      "       gross_worldwide gross_us_canada  release_date   countries_origin  \\\n",
      "count            20722           19544  54849.000000              63150   \n",
      "unique           20350           18866           NaN               3461   \n",
      "top             $8,148      $1,000,000           NaN  ['United States']   \n",
      "freq                13              23           NaN              29422   \n",
      "mean               NaN             NaN   1966.434374                NaN   \n",
      "std                NaN             NaN     27.696231                NaN   \n",
      "min                NaN             NaN   1920.000000                NaN   \n",
      "25%                NaN             NaN   1943.000000                NaN   \n",
      "50%                NaN             NaN   1966.000000                NaN   \n",
      "75%                NaN             NaN   1989.000000                NaN   \n",
      "max                NaN             NaN   2024.000000                NaN   \n",
      "\n",
      "                       filming_locations    production_companies  \\\n",
      "count                              46395                   61276   \n",
      "unique                             21503                   35983   \n",
      "top     ['Los Angeles, California, USA']  ['Paramount Pictures']   \n",
      "freq                                 910                    1266   \n",
      "mean                                 NaN                     NaN   \n",
      "std                                  NaN                     NaN   \n",
      "min                                  NaN                     NaN   \n",
      "25%                                  NaN                     NaN   \n",
      "50%                                  NaN                     NaN   \n",
      "75%                                  NaN                     NaN   \n",
      "max                                  NaN                     NaN   \n",
      "\n",
      "                    awards_content     genres    languages  \n",
      "count                        27068      62462        62919  \n",
      "unique                        3453      11314         3255  \n",
      "top     Awards, 1 nomination total  ['Drama']  ['English']  \n",
      "freq                          3309       7635        30117  \n",
      "mean                           NaN        NaN          NaN  \n",
      "std                            NaN        NaN          NaN  \n",
      "min                            NaN        NaN          NaN  \n",
      "25%                            NaN        NaN          NaN  \n",
      "50%                            NaN        NaN          NaN  \n",
      "75%                            NaN        NaN          NaN  \n",
      "max                            NaN        NaN          NaN  \n",
      "\n",
      "[11 rows x 24 columns]\n",
      "==================================================\n",
      "\n",
      "Missing Values:\n",
      "--------------------------------------------------\n",
      "id                           0\n",
      "title                        0\n",
      "year                         0\n",
      "duration                  2075\n",
      "MPA                      22022\n",
      "rating                    4068\n",
      "votes                     4068\n",
      "meta_score               47716\n",
      "description               2360\n",
      "Movie_Link                   0\n",
      "writers                    269\n",
      "directors                   51\n",
      "stars                      344\n",
      "budget                   47890\n",
      "opening_weekend_gross    46412\n",
      "gross_worldwide          42527\n",
      "gross_us_canada          43705\n",
      "release_date              8400\n",
      "countries_origin            99\n",
      "filming_locations        16854\n",
      "production_companies      1973\n",
      "awards_content           36181\n",
      "genres                     787\n",
      "languages                  330\n",
      "dtype: int64\n",
      "==================================================\n"
     ]
    },
    {
     "name": "stderr",
     "output_type": "stream",
     "text": [
      "/usr/local/lib/python3.11/dist-packages/pandas/io/formats/format.py:1458: RuntimeWarning: invalid value encountered in greater\n",
      "  has_large_values = (abs_vals > 1e6).any()\n",
      "/usr/local/lib/python3.11/dist-packages/pandas/io/formats/format.py:1459: RuntimeWarning: invalid value encountered in less\n",
      "  has_small_values = ((abs_vals < 10 ** (-self.digits)) & (abs_vals > 0)).any()\n",
      "/usr/local/lib/python3.11/dist-packages/pandas/io/formats/format.py:1459: RuntimeWarning: invalid value encountered in greater\n",
      "  has_small_values = ((abs_vals < 10 ** (-self.digits)) & (abs_vals > 0)).any()\n"
     ]
    }
   ],
   "source": [
    "describe(df)"
   ]
  },
  {
   "cell_type": "markdown",
   "id": "f5297f28",
   "metadata": {
    "papermill": {
     "duration": 0.006329,
     "end_time": "2025-07-29T08:02:51.376694",
     "exception": false,
     "start_time": "2025-07-29T08:02:51.370365",
     "status": "completed"
    },
    "tags": []
   },
   "source": [
    "### Debugging Functions\n",
    "\n",
    "Please note that these functions defined here were used in the developement process for testing and checking if the cleaning is working as intended or not. They were verbose in terms of logs so I removed their calls in the final version but kept the functions there for testing purposes in the future.\n"
   ]
  },
  {
   "cell_type": "code",
   "execution_count": 5,
   "id": "6462c076",
   "metadata": {
    "execution": {
     "iopub.execute_input": "2025-07-29T08:02:51.390292Z",
     "iopub.status.busy": "2025-07-29T08:02:51.389985Z",
     "iopub.status.idle": "2025-07-29T08:02:51.395258Z",
     "shell.execute_reply": "2025-07-29T08:02:51.394421Z"
    },
    "papermill": {
     "duration": 0.01426,
     "end_time": "2025-07-29T08:02:51.396700",
     "exception": false,
     "start_time": "2025-07-29T08:02:51.382440",
     "status": "completed"
    },
    "tags": []
   },
   "outputs": [],
   "source": [
    "def analyze_column(df, column_name):\n",
    "    # Handle nulls\n",
    "    nulls = df[df[column_name].isnull()]\n",
    "    print(f\"\\n🔍 Null values in '{column_name}': {len(nulls)}\")\n",
    "    # Handle duplicates\n",
    "    duplicates = df[column_name][df[column_name].duplicated(keep=False)]\n",
    "    print(f\"\\n🔁 Duplicate values in '{column_name}':\")\n",
    "    if not duplicates.empty:\n",
    "        print(duplicates.value_counts())\n",
    "    else:\n",
    "        print(\"No duplicates found.\")"
   ]
  },
  {
   "cell_type": "code",
   "execution_count": 6,
   "id": "1a48acf8",
   "metadata": {
    "execution": {
     "iopub.execute_input": "2025-07-29T08:02:51.409467Z",
     "iopub.status.busy": "2025-07-29T08:02:51.409147Z",
     "iopub.status.idle": "2025-07-29T08:02:51.416919Z",
     "shell.execute_reply": "2025-07-29T08:02:51.416114Z"
    },
    "papermill": {
     "duration": 0.015763,
     "end_time": "2025-07-29T08:02:51.418339",
     "exception": false,
     "start_time": "2025-07-29T08:02:51.402576",
     "status": "completed"
    },
    "tags": []
   },
   "outputs": [],
   "source": [
    "def is_array_like(col):\n",
    "    non_null = col.dropna()\n",
    "    if non_null.empty:\n",
    "        return False\n",
    "    return non_null.apply(lambda x: isinstance(x, list) or isinstance(x, np.ndarray)).all()\n",
    "\n",
    "def print_unique_values(df):\n",
    "    for col in df.columns:\n",
    "        if is_array_like(df[col]):\n",
    "            all_values = [item for sublist in df[col].dropna() for item in sublist if pd.notna(item)]\n",
    "            series = pd.Series(all_values)\n",
    "            if pd.api.types.is_numeric_dtype(series):\n",
    "                print(f\"Statistics for numerical array-like column '{col}':\")\n",
    "                print(series.describe())\n",
    "            else:\n",
    "                unique_vals = series.unique()\n",
    "                print(f\"Unique values for textual array-like column '{col}': {unique_vals}\")\n",
    "        else:\n",
    "            if pd.api.types.is_numeric_dtype(df[col]):\n",
    "                print(f\"Statistics for numerical column '{col}':\")\n",
    "                print(df[col].describe())\n",
    "            elif df[col].dtype == 'object':\n",
    "                unique_vals = df[col].unique()\n",
    "                print(f\"Unique values for textual column '{col}': {unique_vals}\")\n",
    "            else:\n",
    "                print(f\"Column '{col}' has dtype {df[col].dtype}, not handled.\")"
   ]
  },
  {
   "cell_type": "markdown",
   "id": "25190e41",
   "metadata": {
    "papermill": {
     "duration": 0.005359,
     "end_time": "2025-07-29T08:02:51.429624",
     "exception": false,
     "start_time": "2025-07-29T08:02:51.424265",
     "status": "completed"
    },
    "tags": []
   },
   "source": [
    "## Data Cleaning\n",
    "I will proceed with each column on its own now.\n",
    "\n",
    "In the developement of this notebook and during the cleaning process, I used the functions above to study each column before proceeding."
   ]
  },
  {
   "cell_type": "markdown",
   "id": "08626dc3",
   "metadata": {
    "papermill": {
     "duration": 0.005402,
     "end_time": "2025-07-29T08:02:51.440709",
     "exception": false,
     "start_time": "2025-07-29T08:02:51.435307",
     "status": "completed"
    },
    "tags": []
   },
   "source": [
    "### ID"
   ]
  },
  {
   "cell_type": "code",
   "execution_count": 7,
   "id": "7be0c08c",
   "metadata": {
    "execution": {
     "iopub.execute_input": "2025-07-29T08:02:51.453004Z",
     "iopub.status.busy": "2025-07-29T08:02:51.452687Z",
     "iopub.status.idle": "2025-07-29T08:02:51.478336Z",
     "shell.execute_reply": "2025-07-29T08:02:51.477465Z"
    },
    "papermill": {
     "duration": 0.03374,
     "end_time": "2025-07-29T08:02:51.479908",
     "exception": false,
     "start_time": "2025-07-29T08:02:51.446168",
     "status": "completed"
    },
    "tags": []
   },
   "outputs": [],
   "source": [
    "df[\"id\"] = df[\"id\"].astype(\"string\")\n",
    "df['id'] = df['id'].apply(lambda x: x.strip().lower())"
   ]
  },
  {
   "cell_type": "markdown",
   "id": "1d6f9aa3",
   "metadata": {
    "papermill": {
     "duration": 0.005498,
     "end_time": "2025-07-29T08:02:51.491322",
     "exception": false,
     "start_time": "2025-07-29T08:02:51.485824",
     "status": "completed"
    },
    "tags": []
   },
   "source": [
    "### TITLE"
   ]
  },
  {
   "cell_type": "code",
   "execution_count": 8,
   "id": "dba989ea",
   "metadata": {
    "execution": {
     "iopub.execute_input": "2025-07-29T08:02:51.504183Z",
     "iopub.status.busy": "2025-07-29T08:02:51.503751Z",
     "iopub.status.idle": "2025-07-29T08:02:51.532866Z",
     "shell.execute_reply": "2025-07-29T08:02:51.531761Z"
    },
    "papermill": {
     "duration": 0.037648,
     "end_time": "2025-07-29T08:02:51.534598",
     "exception": false,
     "start_time": "2025-07-29T08:02:51.496950",
     "status": "completed"
    },
    "tags": []
   },
   "outputs": [],
   "source": [
    "df[\"title\"] = df[\"title\"].astype(\"string\")\n",
    "df['title'] = df['title'].apply(lambda x: x.strip().lower())"
   ]
  },
  {
   "cell_type": "markdown",
   "id": "95af276c",
   "metadata": {
    "papermill": {
     "duration": 0.005513,
     "end_time": "2025-07-29T08:02:51.545963",
     "exception": false,
     "start_time": "2025-07-29T08:02:51.540450",
     "status": "completed"
    },
    "tags": []
   },
   "source": [
    "### Year"
   ]
  },
  {
   "cell_type": "code",
   "execution_count": 9,
   "id": "e60be1c4",
   "metadata": {
    "execution": {
     "iopub.execute_input": "2025-07-29T08:02:51.558600Z",
     "iopub.status.busy": "2025-07-29T08:02:51.558254Z",
     "iopub.status.idle": "2025-07-29T08:02:51.575908Z",
     "shell.execute_reply": "2025-07-29T08:02:51.574971Z"
    },
    "papermill": {
     "duration": 0.025915,
     "end_time": "2025-07-29T08:02:51.577567",
     "exception": false,
     "start_time": "2025-07-29T08:02:51.551652",
     "status": "completed"
    },
    "tags": []
   },
   "outputs": [],
   "source": [
    "df['year'] = pd.to_numeric(df['year'], downcast='integer')"
   ]
  },
  {
   "cell_type": "markdown",
   "id": "ef7f5c62",
   "metadata": {
    "papermill": {
     "duration": 0.005588,
     "end_time": "2025-07-29T08:02:51.588921",
     "exception": false,
     "start_time": "2025-07-29T08:02:51.583333",
     "status": "completed"
    },
    "tags": []
   },
   "source": [
    "### Duration and MPA"
   ]
  },
  {
   "cell_type": "code",
   "execution_count": 10,
   "id": "c8a839d1",
   "metadata": {
    "execution": {
     "iopub.execute_input": "2025-07-29T08:02:51.601584Z",
     "iopub.status.busy": "2025-07-29T08:02:51.601234Z",
     "iopub.status.idle": "2025-07-29T08:02:51.611119Z",
     "shell.execute_reply": "2025-07-29T08:02:51.610304Z"
    },
    "papermill": {
     "duration": 0.017941,
     "end_time": "2025-07-29T08:02:51.612505",
     "exception": false,
     "start_time": "2025-07-29T08:02:51.594564",
     "status": "completed"
    },
    "tags": []
   },
   "outputs": [],
   "source": [
    "def is_h_m_format(val):\n",
    "    \"\"\"Check if value is in a valid duration format\"\"\"\n",
    "    if pd.isna(val):\n",
    "        return True  # Consider NaNs as \"valid\" for now\n",
    "    \n",
    "    val = str(val).strip().lower()\n",
    "    patterns = [\n",
    "        r'(?:(\\d+)\\s*h)?\\s*(\\d+)\\s*m',         # \"1h 30m\", \"30m\"\n",
    "        r'(\\d+)\\s*min',                        # \"90 min\"\n",
    "        r'(\\d+)\\s*minutes?',                   # \"45 minutes\"\n",
    "        r'(\\d+)\\s*hours?',                     # \"2 hours\"\n",
    "        r'^(\\d+):(\\d+)$',                      # \"1:15\"\n",
    "        r'^(\\d+)$',                            # just a number, like \"90\"\n",
    "        r'^(\\d+)\\s*h$'                         # \"2h\"\n",
    "    ]\n",
    "    \n",
    "    for pattern in patterns:\n",
    "        if re.fullmatch(pattern, val):\n",
    "            return True\n",
    "    return False\n",
    "\n",
    "def convert_to_minutes(val):\n",
    "    \"\"\"Convert various duration formats to minutes (integer)\"\"\"\n",
    "    if pd.isna(val):\n",
    "        return -1\n",
    "    \n",
    "    # If the value is already an integer or float, just return it\n",
    "    if isinstance(val, (int, float)) and not pd.isna(val):\n",
    "        return int(val)\n",
    "    \n",
    "    val = str(val).strip().lower()\n",
    "    \n",
    "    # Pattern matching for different time formats\n",
    "    # Format: \"1h 30m\" or \"30m\"\n",
    "    match = re.fullmatch(r'(?:(\\d+)\\s*h)?\\s*(\\d+)\\s*m', val)\n",
    "    if match:\n",
    "        hours = int(match.group(1)) if match.group(1) else 0\n",
    "        minutes = int(match.group(2))\n",
    "        return hours * 60 + minutes\n",
    "    \n",
    "    # Format: \"90 min\"\n",
    "    match = re.fullmatch(r'(\\d+)\\s*min', val)\n",
    "    if match:\n",
    "        return int(match.group(1))\n",
    "    \n",
    "    # Format: \"45 minutes\"\n",
    "    match = re.fullmatch(r'(\\d+)\\s*minutes?', val)\n",
    "    if match:\n",
    "        return int(match.group(1))\n",
    "    \n",
    "    # Format: \"2 hours\"\n",
    "    match = re.fullmatch(r'(\\d+)\\s*hours?', val)\n",
    "    if match:\n",
    "        return int(match.group(1)) * 60\n",
    "    \n",
    "    # Format: \"1:15\"\n",
    "    match = re.fullmatch(r'^(\\d+):(\\d+)$', val)\n",
    "    if match:\n",
    "        hours = int(match.group(1))\n",
    "        minutes = int(match.group(2))\n",
    "        return hours * 60 + minutes\n",
    "    \n",
    "    # Just a number, like \"90\"\n",
    "    match = re.fullmatch(r'^(\\d+)$', val)\n",
    "    if match:\n",
    "        return int(match.group(1))\n",
    "    \n",
    "    # Format: \"2h\"\n",
    "    match = re.fullmatch(r'^(\\d+)\\s*h$', val)\n",
    "    if match:\n",
    "        return int(match.group(1)) * 60\n",
    "    \n",
    "    return -1"
   ]
  },
  {
   "cell_type": "code",
   "execution_count": 11,
   "id": "d812dfd8",
   "metadata": {
    "execution": {
     "iopub.execute_input": "2025-07-29T08:02:51.625482Z",
     "iopub.status.busy": "2025-07-29T08:02:51.625166Z",
     "iopub.status.idle": "2025-07-29T08:02:51.631313Z",
     "shell.execute_reply": "2025-07-29T08:02:51.630496Z"
    },
    "papermill": {
     "duration": 0.014403,
     "end_time": "2025-07-29T08:02:51.632810",
     "exception": false,
     "start_time": "2025-07-29T08:02:51.618407",
     "status": "completed"
    },
    "tags": []
   },
   "outputs": [],
   "source": [
    "# Define simplified MPA standardization mapping (grouped by minimum age)\n",
    "mpa_standardization = {\n",
    "    # Group G: General Audiences (Age 0+)\n",
    "    'g': 'general',\n",
    "    'tv-g': 'general',\n",
    "    'tv-y': 'general',\n",
    "    \n",
    "    # Group PG: Parental Guidance (Age 7-10+)\n",
    "    'pg': 'parental_guidance',\n",
    "    'tv-pg': 'parental_guidance',\n",
    "    'approved': 'parental_guidance',\n",
    "    'passed': 'parental_guidance',\n",
    "    'm': 'parental_guidance',\n",
    "    'm/pg': 'parental_guidance',\n",
    "    'gp': 'parental_guidance',\n",
    "    'tv-y7': 'parental_guidance',\n",
    "    'tv-y7-fv': 'parental_guidance',\n",
    "    \n",
    "    # Group Teen: Teen Content (Age 13-14+)\n",
    "    'pg-13': 'teen',\n",
    "    'tv-14': 'teen',\n",
    "    'tv-13': 'teen',\n",
    "    '13+': 'teen',\n",
    "    \n",
    "    # Group Mature: Mature Content (Age 16-17+)\n",
    "    'r': 'mature',\n",
    "    'tv-ma': 'mature',\n",
    "    'ma-17': 'mature',\n",
    "    '16+': 'mature',\n",
    "    \n",
    "    # Group Adult: Adults Only (Age 18+)\n",
    "    'nc-17': 'adults_only',\n",
    "    'x': 'adults_only',\n",
    "    '18+': 'adults_only',\n",
    "    \n",
    "    # Unrated group\n",
    "    'not rated': 'unrated',\n",
    "    'unrated': 'unrated',\n",
    "    'none': 'unrated',\n",
    "    'e': 'unrated'\n",
    "}\n",
    "\n",
    "# Define minimum age mapping based on simplified categories\n",
    "min_age_map = {\n",
    "    'general': 0,          # G, TV-G, TV-Y\n",
    "    'parental_guidance': 7, # PG, TV-PG, Approved, TV-Y7\n",
    "    'teen': 13,            # PG-13, TV-14\n",
    "    'mature': 17,          # R, TV-MA\n",
    "    'adults_only': 18,     # NC-17, X\n",
    "    'unrated': 'unrated'\n",
    "}"
   ]
  },
  {
   "cell_type": "code",
   "execution_count": 12,
   "id": "e0a95884",
   "metadata": {
    "execution": {
     "iopub.execute_input": "2025-07-29T08:02:51.645875Z",
     "iopub.status.busy": "2025-07-29T08:02:51.645515Z",
     "iopub.status.idle": "2025-07-29T08:02:51.801735Z",
     "shell.execute_reply": "2025-07-29T08:02:51.800789Z"
    },
    "papermill": {
     "duration": 0.164656,
     "end_time": "2025-07-29T08:02:51.803343",
     "exception": false,
     "start_time": "2025-07-29T08:02:51.638687",
     "status": "completed"
    },
    "tags": []
   },
   "outputs": [
    {
     "name": "stdout",
     "output_type": "stream",
     "text": [
      "Step 1: Identifying and fixing swapped values between duration and MPA\n",
      "\n",
      "❌ Durations with unrecognized format:\n",
      "['R' 'Passed' 'PG-13' 'TV-14' 'PG' '18+' 'TV-PG' 'Approved' 'E']\n",
      "\n",
      "🔀 Mix with MPA for invalid durations (including nulls):\n",
      "duration  MPA\n",
      "18+       NaN     1\n",
      "Approved  NaN     4\n",
      "E         NaN     1\n",
      "PG        NaN     3\n",
      "PG-13     NaN     3\n",
      "Passed    NaN    54\n",
      "R         NaN    19\n",
      "TV-14     NaN     2\n",
      "TV-PG     NaN     1\n",
      "dtype: int64\n"
     ]
    },
    {
     "name": "stderr",
     "output_type": "stream",
     "text": [
      "/usr/local/lib/python3.11/dist-packages/pandas/io/formats/format.py:1458: RuntimeWarning: invalid value encountered in greater\n",
      "  has_large_values = (abs_vals > 1e6).any()\n",
      "/usr/local/lib/python3.11/dist-packages/pandas/io/formats/format.py:1459: RuntimeWarning: invalid value encountered in less\n",
      "  has_small_values = ((abs_vals < 10 ** (-self.digits)) & (abs_vals > 0)).any()\n",
      "/usr/local/lib/python3.11/dist-packages/pandas/io/formats/format.py:1459: RuntimeWarning: invalid value encountered in greater\n",
      "  has_small_values = ((abs_vals < 10 ** (-self.digits)) & (abs_vals > 0)).any()\n"
     ]
    }
   ],
   "source": [
    "# Step 1: Fix swapped values between duration and MPA\n",
    "print(\"Step 1: Identifying and fixing swapped values between duration and MPA\")\n",
    "# First identify any known rating values that are in the duration column\n",
    "known_ratings = set(mpa_standardization.keys())\n",
    "df['duration_normalized'] = df['duration'].apply(lambda x: str(x).strip().lower() if not pd.isna(x) else '')\n",
    "\n",
    "# Show invalid durations\n",
    "invalid_durations = df[~df['duration'].apply(is_h_m_format)]\n",
    "print(\"\\n❌ Durations with unrecognized format:\")\n",
    "print(invalid_durations['duration'].unique())\n",
    "\n",
    "print(\"\\n🔀 Mix with MPA for invalid durations (including nulls):\")\n",
    "print(\n",
    "    invalid_durations\n",
    "    .groupby(['duration', 'MPA'], dropna=False)\n",
    "    .size()\n",
    "    .sort_index()\n",
    ")"
   ]
  },
  {
   "cell_type": "markdown",
   "id": "07d692be",
   "metadata": {
    "papermill": {
     "duration": 0.005677,
     "end_time": "2025-07-29T08:02:51.814901",
     "exception": false,
     "start_time": "2025-07-29T08:02:51.809224",
     "status": "completed"
    },
    "tags": []
   },
   "source": [
    "**Observations:**\n",
    "- misplaced values in duration that must be put in MPA.\n",
    "- there is a value for unrated movies and so we can substitute nan with unrated **(Note this decision came from the fact that if IMDB didn't contain the rating then getting it and verifying it from elsewhere wouldn't add more information. If you can do better then do so. In my case I unified many values in MPA.)**."
   ]
  },
  {
   "cell_type": "code",
   "execution_count": 13,
   "id": "3297d731",
   "metadata": {
    "execution": {
     "iopub.execute_input": "2025-07-29T08:02:51.827845Z",
     "iopub.status.busy": "2025-07-29T08:02:51.827518Z",
     "iopub.status.idle": "2025-07-29T08:02:51.892659Z",
     "shell.execute_reply": "2025-07-29T08:02:51.891597Z"
    },
    "papermill": {
     "duration": 0.073366,
     "end_time": "2025-07-29T08:02:51.894114",
     "exception": false,
     "start_time": "2025-07-29T08:02:51.820748",
     "status": "completed"
    },
    "tags": []
   },
   "outputs": [
    {
     "name": "stdout",
     "output_type": "stream",
     "text": [
      "\n",
      "Before Swap\n",
      "Null values in MPA: 22022\n",
      "MPA\n",
      "R            11339\n",
      "Approved     10000\n",
      "Not Rated     6450\n",
      "PG-13         4014\n",
      "PG            3770\n",
      "Passed        2128\n",
      "Unrated       1149\n",
      "G              901\n",
      "TV-MA          361\n",
      "TV-14          264\n",
      "TV-PG          228\n",
      "X              173\n",
      "GP             137\n",
      "TV-G            96\n",
      "NC-17           68\n",
      "M               57\n",
      "M/PG            45\n",
      "TV-Y7           13\n",
      "18+             10\n",
      "16+              9\n",
      "Name: count, dtype: int64\n",
      "\n",
      "After Swap\n",
      "Null values in MPA: 21934\n",
      "MPA\n",
      "R            11358\n",
      "Approved     10004\n",
      "Not Rated     6450\n",
      "PG-13         4017\n",
      "PG            3773\n",
      "Passed        2182\n",
      "Unrated       1149\n",
      "G              901\n",
      "TV-MA          361\n",
      "TV-14          266\n",
      "TV-PG          229\n",
      "X              173\n",
      "GP             137\n",
      "TV-G            96\n",
      "NC-17           68\n",
      "M               57\n",
      "M/PG            45\n",
      "TV-Y7           13\n",
      "18+             11\n",
      "16+              9\n",
      "Name: count, dtype: int64\n"
     ]
    }
   ],
   "source": [
    "print(\"\\nBefore Swap\")\n",
    "print(f\"Null values in MPA: {df['MPA'].isna().sum()}\")\n",
    "print(df['MPA'].value_counts().sort_values(ascending=False).head(20))\n",
    "\n",
    "# Identify rows where duration contains a rating value and MPA is null\n",
    "mask = df['duration_normalized'].isin(known_ratings) & df['MPA'].isna()\n",
    "# Swap the values for these rows\n",
    "df.loc[mask, ['duration', 'MPA']] = df.loc[mask, ['MPA', 'duration']].values\n",
    "\n",
    "# Clean up temporary column\n",
    "df.drop(columns=['duration_normalized'], inplace=True)\n",
    "\n",
    "print(\"\\nAfter Swap\")\n",
    "print(f\"Null values in MPA: {df['MPA'].isna().sum()}\")\n",
    "print(df['MPA'].value_counts().sort_values(ascending=False).head(20))"
   ]
  },
  {
   "cell_type": "code",
   "execution_count": 14,
   "id": "3bf4539f",
   "metadata": {
    "execution": {
     "iopub.execute_input": "2025-07-29T08:02:51.908290Z",
     "iopub.status.busy": "2025-07-29T08:02:51.907585Z",
     "iopub.status.idle": "2025-07-29T08:02:52.082723Z",
     "shell.execute_reply": "2025-07-29T08:02:52.081773Z"
    },
    "papermill": {
     "duration": 0.1837,
     "end_time": "2025-07-29T08:02:52.084239",
     "exception": false,
     "start_time": "2025-07-29T08:02:51.900539",
     "status": "completed"
    },
    "tags": []
   },
   "outputs": [
    {
     "name": "stdout",
     "output_type": "stream",
     "text": [
      "\n",
      "Step 2: Processing duration values\n",
      "Successfully converted durations: 61086 rows\n",
      "Failed conversions: 2163 rows\n"
     ]
    }
   ],
   "source": [
    "# Step 2: Process duration values\n",
    "print(\"\\nStep 2: Processing duration values\")\n",
    "# Convert duration to minutes\n",
    "df['duration_minutes'] = df['duration'].apply(convert_to_minutes)\n",
    "# Set duration_converted flag (True if conversion succeeded, False if resulted in -1)\n",
    "df['duration_converted'] = df['duration_minutes'] != -1\n",
    "# Replace original duration with minutes\n",
    "df['duration'] = df['duration_minutes']\n",
    "# Clean up temporary column\n",
    "df.drop(columns=['duration_minutes'], inplace=True)\n",
    "\n",
    "print(f\"Successfully converted durations: {df['duration_converted'].sum()} rows\")\n",
    "print(f\"Failed conversions: {(~df['duration_converted']).sum()} rows\")"
   ]
  },
  {
   "cell_type": "code",
   "execution_count": 15,
   "id": "b6922cc6",
   "metadata": {
    "execution": {
     "iopub.execute_input": "2025-07-29T08:02:52.097957Z",
     "iopub.status.busy": "2025-07-29T08:02:52.097655Z",
     "iopub.status.idle": "2025-07-29T08:02:52.185557Z",
     "shell.execute_reply": "2025-07-29T08:02:52.184460Z"
    },
    "papermill": {
     "duration": 0.096711,
     "end_time": "2025-07-29T08:02:52.187227",
     "exception": false,
     "start_time": "2025-07-29T08:02:52.090516",
     "status": "completed"
    },
    "tags": []
   },
   "outputs": [
    {
     "name": "stdout",
     "output_type": "stream",
     "text": [
      "\n",
      "Step 3: Processing MPA values\n",
      "\n",
      "MPA standardization summary:\n",
      "MPA\n",
      "unrated              29534\n",
      "parental_guidance    16445\n",
      "mature               11729\n",
      "teen                  4289\n",
      "general               1000\n",
      "adults_only            252\n",
      "Name: count, dtype: int64\n",
      "\n",
      "Minimum age distribution:\n",
      "MPA_min_age\n",
      "unrated    29534\n",
      "7          16445\n",
      "17         11729\n",
      "13          4289\n",
      "0           1000\n",
      "18           252\n",
      "Name: count, dtype: int64\n"
     ]
    }
   ],
   "source": [
    "# Step 3: Process MPA values\n",
    "print(\"\\nStep 3: Processing MPA values\")\n",
    "# Keep original values for reference\n",
    "df['MPA_original'] = df['MPA'].copy()\n",
    "\n",
    "# Normalize MPA values (fill with unrated, lowercase, strip, standardize)\n",
    "df['MPA'] = df['MPA'].fillna('unrated')\n",
    "df['MPA'] = df['MPA'].apply(lambda x: str(x).strip().lower() if pd.notna(x) else 'unrated')\n",
    "df['MPA'] = df['MPA'].apply(lambda x: mpa_standardization.get(x, 'unrated'))\n",
    "\n",
    "# Add minimum age column based on standardized MPA\n",
    "df['MPA_min_age'] = df['MPA'].apply(lambda x: min_age_map.get(x, 'unrated'))\n",
    "\n",
    "print(\"\\nMPA standardization summary:\")\n",
    "print(df['MPA'].value_counts().sort_values(ascending=False))\n",
    "print(\"\\nMinimum age distribution:\")\n",
    "print(df['MPA_min_age'].value_counts().sort_values(ascending=False))"
   ]
  },
  {
   "cell_type": "code",
   "execution_count": 16,
   "id": "3ee3d093",
   "metadata": {
    "execution": {
     "iopub.execute_input": "2025-07-29T08:02:52.201157Z",
     "iopub.status.busy": "2025-07-29T08:02:52.200873Z",
     "iopub.status.idle": "2025-07-29T08:02:52.236758Z",
     "shell.execute_reply": "2025-07-29T08:02:52.235854Z"
    },
    "papermill": {
     "duration": 0.044368,
     "end_time": "2025-07-29T08:02:52.238235",
     "exception": false,
     "start_time": "2025-07-29T08:02:52.193867",
     "status": "completed"
    },
    "tags": []
   },
   "outputs": [
    {
     "name": "stdout",
     "output_type": "stream",
     "text": [
      "\n",
      "Step 4: Optimizing data types\n"
     ]
    }
   ],
   "source": [
    "# Step 4: Optimize data types\n",
    "print(\"\\nStep 4: Optimizing data types\")\n",
    "# Convert duration to optimal integer type\n",
    "df['duration'] = pd.to_numeric(df['duration'], downcast='integer')\n",
    "# Ensure duration_converted is boolean type\n",
    "df['duration_converted'] = df['duration_converted'].astype('bool')\n",
    "# Make MPA columns categorical for efficiency\n",
    "df['MPA'] = df['MPA'].astype('category')\n",
    "df['MPA_original'] = df['MPA_original'].astype('category')\n",
    "\n",
    "# Handle MPA_min_age as a mixed-type column (numeric and 'unrated')\n",
    "numeric_mask = df['MPA_min_age'] != 'unrated'\n",
    "if numeric_mask.any():\n",
    "    df.loc[numeric_mask, 'MPA_min_age'] = pd.to_numeric(df.loc[numeric_mask, 'MPA_min_age'], downcast='integer')\n",
    "df['MPA_min_age'] = df['MPA_min_age'].astype('category')"
   ]
  },
  {
   "cell_type": "code",
   "execution_count": 17,
   "id": "1bfbf60d",
   "metadata": {
    "execution": {
     "iopub.execute_input": "2025-07-29T08:02:52.252142Z",
     "iopub.status.busy": "2025-07-29T08:02:52.251713Z",
     "iopub.status.idle": "2025-07-29T08:02:52.261861Z",
     "shell.execute_reply": "2025-07-29T08:02:52.260870Z"
    },
    "papermill": {
     "duration": 0.018775,
     "end_time": "2025-07-29T08:02:52.263284",
     "exception": false,
     "start_time": "2025-07-29T08:02:52.244509",
     "status": "completed"
    },
    "tags": []
   },
   "outputs": [
    {
     "name": "stdout",
     "output_type": "stream",
     "text": [
      "\n",
      "Final Data Summary:\n",
      "Total rows: 63249\n",
      "MPA null values: 0\n",
      "Duration range: -1 to 5220 minutes\n",
      "Duration conversion success rate: 96.58%\n",
      "Unique MPA categories: 6\n",
      "Unique MPA_min_age values: 6\n"
     ]
    }
   ],
   "source": [
    "# Final summary\n",
    "print(\"\\nFinal Data Summary:\")\n",
    "print(f\"Total rows: {len(df)}\")\n",
    "print(f\"MPA null values: {df['MPA'].isna().sum()}\")\n",
    "print(f\"Duration range: {df['duration'].min()} to {df['duration'].max()} minutes\")\n",
    "print(f\"Duration conversion success rate: {df['duration_converted'].mean()*100:.2f}%\")\n",
    "print(f\"Unique MPA categories: {df['MPA'].nunique()}\")\n",
    "print(f\"Unique MPA_min_age values: {df['MPA_min_age'].nunique()}\")"
   ]
  },
  {
   "cell_type": "markdown",
   "id": "ebccc961",
   "metadata": {
    "papermill": {
     "duration": 0.005963,
     "end_time": "2025-07-29T08:02:52.275684",
     "exception": false,
     "start_time": "2025-07-29T08:02:52.269721",
     "status": "completed"
    },
    "tags": []
   },
   "source": [
    "***Done:*** Cleaning, Normalizing, optimizing these columns and adding more columns to the dataset."
   ]
  },
  {
   "cell_type": "markdown",
   "id": "2990cab8",
   "metadata": {
    "papermill": {
     "duration": 0.006067,
     "end_time": "2025-07-29T08:02:52.288216",
     "exception": false,
     "start_time": "2025-07-29T08:02:52.282149",
     "status": "completed"
    },
    "tags": []
   },
   "source": [
    "### Rating and Votes"
   ]
  },
  {
   "cell_type": "code",
   "execution_count": 18,
   "id": "b94e686e",
   "metadata": {
    "execution": {
     "iopub.execute_input": "2025-07-29T08:02:52.302111Z",
     "iopub.status.busy": "2025-07-29T08:02:52.301755Z",
     "iopub.status.idle": "2025-07-29T08:02:52.331542Z",
     "shell.execute_reply": "2025-07-29T08:02:52.330584Z"
    },
    "papermill": {
     "duration": 0.038744,
     "end_time": "2025-07-29T08:02:52.333240",
     "exception": false,
     "start_time": "2025-07-29T08:02:52.294496",
     "status": "completed"
    },
    "tags": []
   },
   "outputs": [
    {
     "name": "stdout",
     "output_type": "stream",
     "text": [
      "\n",
      "🔍 Null values in 'rating': 4068\n",
      "\n",
      "🔁 Duplicate values in 'rating':\n",
      "rating\n",
      "6.3    2525\n",
      "6.4    2498\n",
      "6.2    2456\n",
      "6.5    2417\n",
      "6.6    2407\n",
      "       ... \n",
      "1.3       5\n",
      "9.6       4\n",
      "9.5       3\n",
      "1.4       3\n",
      "1.2       2\n",
      "Name: count, Length: 86, dtype: int64\n",
      "\n",
      "🔍 Null values in 'votes': 4068\n",
      "\n",
      "🔁 Duplicate values in 'votes':\n",
      "votes\n",
      "1.1K    835\n",
      "1.2K    776\n",
      "1.4K    633\n",
      "1.3K    633\n",
      "1.5K    574\n",
      "       ... \n",
      "478K      2\n",
      "628K      2\n",
      "369K      2\n",
      "595K      2\n",
      "348K      2\n",
      "Name: count, Length: 1559, dtype: int64\n"
     ]
    }
   ],
   "source": [
    "analyze_column(df, \"rating\")\n",
    "analyze_column(df, \"votes\")"
   ]
  },
  {
   "cell_type": "markdown",
   "id": "daa39708",
   "metadata": {
    "papermill": {
     "duration": 0.006014,
     "end_time": "2025-07-29T08:02:52.345792",
     "exception": false,
     "start_time": "2025-07-29T08:02:52.339778",
     "status": "completed"
    },
    "tags": []
   },
   "source": [
    "***Observations:***\n",
    "- votes and rating are null values together ( as it should be ).\n",
    "- votes is set as a string, it would be better to put it as an integer so conversion is needed."
   ]
  },
  {
   "cell_type": "code",
   "execution_count": 19,
   "id": "f54c64fa",
   "metadata": {
    "execution": {
     "iopub.execute_input": "2025-07-29T08:02:52.360263Z",
     "iopub.status.busy": "2025-07-29T08:02:52.359530Z",
     "iopub.status.idle": "2025-07-29T08:02:52.427082Z",
     "shell.execute_reply": "2025-07-29T08:02:52.426161Z"
    },
    "papermill": {
     "duration": 0.07642,
     "end_time": "2025-07-29T08:02:52.428713",
     "exception": false,
     "start_time": "2025-07-29T08:02:52.352293",
     "status": "completed"
    },
    "tags": []
   },
   "outputs": [],
   "source": [
    "df['rating'] = df['rating'].fillna(-1)\n",
    "df['rating'] = pd.to_numeric(df['rating'], downcast='float')\n",
    "# Define all allowed categories\n",
    "rating_dtype = df['rating'].dtype\n",
    "valid_ratings = np.round(np.arange(0.0, 10.1, 0.1), 1).astype(rating_dtype).tolist()\n",
    "valid_ratings.insert(0, -1.0)\n",
    "\n",
    "df['rating_as_category'] = pd.Categorical(df['rating'], categories=valid_ratings, ordered=True)\n",
    "\n",
    "def parse_votes(val):\n",
    "    try:\n",
    "        if isinstance(val, str):\n",
    "            val = val.strip().lower()\n",
    "            if val.endswith('k'):\n",
    "                return int(float(val[:-1]) * 1_000)\n",
    "            elif val.endswith('m'):\n",
    "                return int(float(val[:-1]) * 1_000_000)\n",
    "            else:\n",
    "                return int(val)\n",
    "        elif pd.isna(val):\n",
    "            return -1\n",
    "        else:\n",
    "            return int(val)\n",
    "    except:\n",
    "        return -1\n",
    "\n",
    "df['votes'] = df['votes'].apply(parse_votes)\n",
    "df['votes'] = pd.to_numeric(df['votes'], downcast='integer')\n",
    "\n",
    "df['rating_was_missing'] = ((df['rating'] == -1) | (df['votes'] == -1))\n",
    "df['rating_was_missing'] = df['rating_was_missing'].astype('bool')"
   ]
  },
  {
   "cell_type": "markdown",
   "id": "6ae936d3",
   "metadata": {
    "papermill": {
     "duration": 0.006705,
     "end_time": "2025-07-29T08:02:52.442177",
     "exception": false,
     "start_time": "2025-07-29T08:02:52.435472",
     "status": "completed"
    },
    "tags": []
   },
   "source": [
    "### Meta_Score\n",
    "The Meta Score typically refers to an aggregated score or rating that represents the critical consensus for a piece of media.\n",
    "\n",
    "IMDb's MetaScore aggregates reviews from professional critics and provides a numerical score on a scale (e.g., 0–100)."
   ]
  },
  {
   "cell_type": "code",
   "execution_count": 20,
   "id": "092660a0",
   "metadata": {
    "execution": {
     "iopub.execute_input": "2025-07-29T08:02:52.456271Z",
     "iopub.status.busy": "2025-07-29T08:02:52.455940Z",
     "iopub.status.idle": "2025-07-29T08:02:52.489728Z",
     "shell.execute_reply": "2025-07-29T08:02:52.488714Z"
    },
    "papermill": {
     "duration": 0.042736,
     "end_time": "2025-07-29T08:02:52.491371",
     "exception": false,
     "start_time": "2025-07-29T08:02:52.448635",
     "status": "completed"
    },
    "tags": []
   },
   "outputs": [
    {
     "name": "stdout",
     "output_type": "stream",
     "text": [
      "\n",
      "🔍 Null values in 'meta_score': 47716\n",
      "\n",
      "🔁 Duplicate values in 'meta_score':\n",
      "meta_score\n",
      "66.0    371\n",
      "65.0    367\n",
      "64.0    366\n",
      "68.0    366\n",
      "72.0    345\n",
      "       ... \n",
      "1.0       8\n",
      "7.0       7\n",
      "8.0       4\n",
      "5.0       3\n",
      "4.0       3\n",
      "Name: count, Length: 97, dtype: int64\n",
      "\n",
      "🔍 Null values in 'meta_score': 0\n",
      "\n",
      "🔁 Duplicate values in 'meta_score':\n",
      "meta_score\n",
      "-1     47716\n",
      " 66      371\n",
      " 65      367\n",
      " 64      366\n",
      " 68      366\n",
      "       ...  \n",
      " 1         8\n",
      " 7         7\n",
      " 8         4\n",
      " 5         3\n",
      " 4         3\n",
      "Name: count, Length: 98, dtype: int64\n"
     ]
    }
   ],
   "source": [
    "analyze_column(df,\"meta_score\")\n",
    "df['meta_score'] = df['meta_score'].fillna(-1)\n",
    "df['meta_score'] = pd.to_numeric(df['meta_score'], downcast='integer')\n",
    "df['meta_score_was_missing'] = (df['meta_score'] == -1)\n",
    "df['meta_score_was_missing'] = df['meta_score_was_missing'].astype('bool')\n",
    "analyze_column(df,\"meta_score\")"
   ]
  }
 ],
 "metadata": {
  "kaggle": {
   "accelerator": "none",
   "dataSources": [
    {
     "datasetId": 6427736,
     "sourceId": 11180210,
     "sourceType": "datasetVersion"
    }
   ],
   "isGpuEnabled": false,
   "isInternetEnabled": false,
   "language": "python",
   "sourceType": "notebook"
  },
  "kernelspec": {
   "display_name": "Python 3",
   "language": "python",
   "name": "python3"
  },
  "language_info": {
   "codemirror_mode": {
    "name": "ipython",
    "version": 3
   },
   "file_extension": ".py",
   "mimetype": "text/x-python",
   "name": "python",
   "nbconvert_exporter": "python",
   "pygments_lexer": "ipython3",
   "version": "3.11.13"
  },
  "papermill": {
   "default_parameters": {},
   "duration": 11.22948,
   "end_time": "2025-07-29T08:02:53.018210",
   "environment_variables": {},
   "exception": null,
   "input_path": "__notebook__.ipynb",
   "output_path": "__notebook__.ipynb",
   "parameters": {},
   "start_time": "2025-07-29T08:02:41.788730",
   "version": "2.6.0"
  }
 },
 "nbformat": 4,
 "nbformat_minor": 5
}
